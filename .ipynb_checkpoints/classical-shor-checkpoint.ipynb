{
 "cells": [
  {
   "cell_type": "markdown",
   "id": "96a3b791-a3f0-4be1-b076-67b84cd0b96e",
   "metadata": {},
   "source": [
    "$\\newcommand{\\if}[1]{{\\textbf{if }{#1}\\textbf{ then:}}}$\n",
    "$\\newcommand{\\else}{{\\textbf{else:}}}$\n",
    "\n",
    "# Shor's Algorithm\n",
    "\n",
    "Shor's algorithm accepts a (large) integer $N$ and finds $p$, $q$ such that $N=p\\cdot q$ and both $p$, $q$ are prime\n",
    "\n",
    "---\n",
    "\n",
    "**Algorithm Shor**\n",
    "\n",
    "**Input:** The integer to factor, $N$\n",
    "\n",
    "**Output:** $p,q$ such that $N = p \\cdot q$\n",
    "\n",
    "**begin**\n",
    "\n",
    "1. Choose a random integer $1 < a < N$\n",
    "2. $b := \\gcd(a,N)$\n",
    "3. $\\if{b \\neq 1}$\n",
    "4. &emsp;$b$ factors $N$; return $p=b$ and $q=N/b$\n",
    "5. $\\else$\n",
    "6. &emsp;Use quantum subroutine to find the order $r$ of $a$\n",
    "7. &emsp;$\\if{r\\text{ is odd}}$\n",
    "8. &emsp;&emsp;go to line 1\n",
    "9. &emsp;$g := \\gcd(a^{r/2}\\pm 1, N)$\n",
    "10. &emsp;$\\if{g>1}$\n",
    "11. &emsp;&emsp;return $p=g$, $q=N/g$\n",
    "12. &emsp;$\\else$\n",
    "13. &emsp;&emsp;go to line 1\n",
    "\n",
    "**end**\n",
    "\n",
    "---\n"
   ]
  },
  {
   "cell_type": "markdown",
   "id": "bb2cdc20305299c7",
   "metadata": {},
   "source": [
    "## Quantum Period Finding Algorithm\n",
    "\n",
    "---\n",
    "\n",
    "**Algorithm QCalculatePeriod**\n",
    "\n",
    "**Input:** Coprime integers $N$ and $1 \\lt a \\lt N$\n",
    "\n",
    "**Output:** The order of $a$ (i.e., $\\min(r>0)$ such that $a^r = 1\\pmod{N}$)\n",
    "\n",
    "**begin**\n",
    "\n",
    "1. $m := \\lceil \\lg N \\rceil$\n",
    "2. $n := 2m$\n",
    "3. Prepare two registers, one of size $n$ and the other of size $m$: $\\ket{\\Psi} = \\ket{0}^{\\otimes n}\\ket{\\psi}^{\\otimes m}$\n",
    "4. Apply a Hadamard transform to the first register in $\\ket{\\Psi}$\n",
    "5. Apply a unitary operator $U$ to the second register, where $U\\ket{\\psi} = e^{i2 \\pi \\theta}\\ket{\\psi}$\n",
    "6. Compute the inverse Quantum Fourier Transform on the first register\n",
    "7. Measure the first register to find the most probable $k$ such that $k=qN/r$ ($q$ is a random integer $\\in \\left[ 0, r \\right)$\n",
    "8. Compute the continued fraction approximation of $N/k$. It is likely that this approximation will be an integer multiple of the period $r$.\n",
    "\n",
    "**end**\n",
    "\n",
    "Note: $n$ is proportional to the accuracy of the algorithm; $n$ is arbitrary and does not necessarily have to be defined as $2m$ in Step 2.\n",
    "\n",
    "---"
   ]
  },
  {
   "cell_type": "markdown",
   "id": "6394738ea1b6bd61",
   "metadata": {},
   "source": [
    "## Continued Fractions Algorithm\n",
    "\n",
    "The Continued Fractions Algorithm finds the continued fraction expansion for any irrational number to as many partial denominators as desired\n",
    "\n",
    "The following system of equations is a way of describing the continued fractions algorithm\n",
    "\n",
    "$$\n",
    "\\begin{align*}\n",
    "   x &= a_0 + b_0 \\\\\n",
    "   \\frac{1}{b_0} &= a_1' = a_1 + b_1 \\\\\n",
    "   &\\vdots\\\\\n",
    "   \\frac{1}{b_k} &= a_{k+1}' = a_{k+1} + b_{k+1}\n",
    "\\end{align*}\n",
    "$$\n",
    "\n",
    "Source: [Cornell](https://pi.math.cornell.edu/~gautam/ContinuedFractions.pdf)\n",
    "\n",
    "---\n",
    "\n",
    "**Algorithm ContinuedFraction(x)**\n",
    " \n",
    "**Input:** A number $x \\in \\mathbb{R}$\n",
    "\n",
    "**Output:** Continued fraction representation of $x$: $\\left[ a_0, a_1, a_2, ... \\right]$ such that\n",
    "\n",
    "\n",
    "**begin**\n",
    "\n",
    "1. $a_m := \\lfloor$ (i.e., let $a_m$ be the integer part of $x_m$)\n",
    "2. $b_m := x_m - a_m$\n",
    "3. $\\if{b_m \\neq 0}$\n",
    "4. &emsp; Set $x_{m+1} = 1/b_m$ and go back to step 1 to compute $a_{m+1}$\n",
    "5. $\\else$\n",
    "6. &emsp; return\n",
    "\n",
    "**end**\n",
    "\n",
    "Note: as some sequences can grow very large, we define a positive $\\epsilon \\ll 1$ so that instead of directly testing $b_m = 0$, we instead test $|b_m| < \\epsilon$. This will allow us to check if $b_m$ is approximately zero.\n",
    "\n",
    "---"
   ]
  },
  {
   "cell_type": "code",
   "execution_count": 1,
   "id": "9c0265b6",
   "metadata": {
    "ExecuteTime": {
     "end_time": "2025-02-15T02:45:26.974775Z",
     "start_time": "2025-02-15T02:45:26.957015Z"
    }
   },
   "outputs": [],
   "source": [
    "import numpy as np\n",
    "\n",
    "def ContinuedFraction(x, eps=1e-8, retlist=False):\n",
    "    \"\"\"\n",
    "    Return approximate fraction representation of a value.\n",
    "\n",
    "    Parameters\n",
    "    ----------\n",
    "        eps : int, optional\n",
    "            The threshold for approximating bm to 0. Default: 1e-8.\n",
    "        retlist : bool, optional\n",
    "            if True, also returns the list of coefficients for the representation.\n",
    "\n",
    "    Returns\n",
    "    -------\n",
    "        numr: int\n",
    "            The numerator of the approximated fraction.\n",
    "        denr: int\n",
    "            Only returned is `retlist` is False\n",
    "            \n",
    "            The denominator of the approximated fraction.\n",
    "        coeffs: ndarray\n",
    "            Only returned if `retlist` is True\n",
    "\n",
    "            Coefficient representation of the approximated fraction.\n",
    "    \"\"\"\n",
    "    \n",
    "    def BuildContinuedFractionRepresentation(xm, a: np.ndarray):\n",
    "        # Compute the integer part of xm\n",
    "        am = int(xm)                      \n",
    "        \n",
    "        # Add integer part of xm to the results list (denominator of continued fractions)                                \n",
    "        a = np.append(a, am)\n",
    "        \n",
    "        # Compute denominator of x_{m+1}                                  \n",
    "        bm = xm - am                                                      \n",
    "        \n",
    "        # Terminate if bm ~ 0 \n",
    "        if np.abs(bm) < eps:\n",
    "            return a\n",
    "        else:\n",
    "            # Compute a_{m+1}\n",
    "            return BuildContinuedFractionRepresentation(1/bm, a)\n",
    "\n",
    "    # Get coefficients of approximated fraction \n",
    "    coeffs = BuildContinuedFractionRepresentation(x, np.array([], dtype=int))\n",
    "\n",
    "    # https://math.stackexchange.com/questions/3084970/how-to-convert-continued-fractions-into-normal-fractions\n",
    "    H = np.empty(len(coeffs) + 2)\n",
    "    K = np.empty_like(H)\n",
    "    H[0], H[1] = 0, 1\n",
    "    K[0], K[1] = 1, 0\n",
    "    for n in range(2, len(H)):\n",
    "        H[n] = coeffs[n-2] * H[n-1] + H[n-2]\n",
    "        K[n] = coeffs[n-2] * K[n-1] + K[n-2]\n",
    "\n",
    "    numr = H[-1]\n",
    "    denr = K[-1]\n",
    "\n",
    "    if retlist:\n",
    "        return numr, denr, coeffs\n",
    "    \n",
    "    return numr, denr\n",
    "\n",
    "# tests\n",
    "\n",
    "assert (ContinuedFraction(2.875) == (23, 8))\n",
    "assert (ContinuedFraction(2.875, retlist=True)[2] == [2,1,7]).all()"
   ]
  },
  {
   "cell_type": "code",
   "execution_count": 27,
   "id": "d5b776959b0f63e1",
   "metadata": {
    "ExecuteTime": {
     "end_time": "2025-02-15T02:40:32.616647Z",
     "start_time": "2025-02-15T02:40:30.451597Z"
    }
   },
   "outputs": [],
   "source": [
    "from qiskit import ClassicalRegister, QuantumCircuit, QuantumRegister\n",
    "import math\n",
    "from qiskit.circuit.library import QFT\n",
    "\n",
    "# inputs\n",
    "# ----------------------\n",
    "a, N = 3, 8\n",
    "eps = 1e-1\n",
    "# ----------------------"
   ]
  },
  {
   "cell_type": "code",
   "execution_count": null,
   "id": "a93212bc8728018a",
   "metadata": {
    "ExecuteTime": {
     "end_time": "2025-02-15T02:41:32.940969Z",
     "start_time": "2025-02-15T02:41:32.838745Z"
    }
   },
   "outputs": [
    {
     "name": "stdout",
     "output_type": "stream",
     "text": [
      "n,m = (20, 10)\n"
     ]
    }
   ],
   "source": [
    "L = 1 + 2 * math.ceil( math.log(N, 2) )\n",
    "m = L + math.ceil( math.log(2 + 1/2/eps, 2) )\n",
    "n = 2*m\n",
    "print(f'n,m = {n,m}')\n",
    "\n",
    "# First quantum register for Phase Estimation\n",
    "# Classical register for storing measurements\n",
    "qr1 = QuantumRegister(n, name='0 register')\n",
    "qr2 = QuantumRegister(m, name='ψ register')\n",
    "crr = ClassicalRegister(n, name='results')\n",
    "\n",
    "# Create circuit\n",
    "shor = QuantumCircuit(qr1, qr2, crr)\n",
    "\n",
    "\n",
    "#####\n",
    "\n",
    "# Apply Hadamard gate to first register\n",
    "shor.h(qr1)\n",
    "\n",
    "# this is where we apply the Unitary operator to the second register\n",
    "# --------------------------------------------------------\n",
    "\n",
    "def c_amodN(a, power, num_qubits):\n",
    "    U = QuantumCircuit(num_qubits//2)\n",
    "    for _ in range(power):\n",
    "        if a%2 != 0:\n",
    "            for q in range(num_qubits//2):\n",
    "                U.x(q)\n",
    "    U = U.to_gate()\n",
    "    U.name = f'{a}^{power} mod N'\n",
    "    return U.control()\n",
    "\n",
    "for q in range(n):\n",
    "    cir = c_amodN(a, 2**q, n)\n",
    "    shor.append(cir, [q] + [i+n for i in range(n//2)])\n",
    "    \n",
    "# --------------------------------------------------------\n",
    "\n",
    "#Apply inverse QFT to the first Register\n",
    "shor.append(QFT(n, inverse=True), qr1)\n",
    "\n",
    "#Measure the first register \n",
    "shor.measure(qr1, crr)\n",
    "\n",
    "#Execute the ciruit \n",
    "shor.draw()"
   ]
  },
  {
   "cell_type": "code",
   "execution_count": 4,
   "id": "d343b3a98d749bb0",
   "metadata": {},
   "outputs": [
    {
     "data": {
      "text/plain": [
       "PrimitiveResult([SamplerPubResult(data=DataBin(results=BitArray(<shape=(), num_shots=1024, num_bits=10>)), metadata={'shots': 1024, 'circuit_metadata': {}})], metadata={'version': 2})"
      ]
     },
     "execution_count": 4,
     "metadata": {},
     "output_type": "execute_result"
    }
   ],
   "source": [
    "from qiskit.primitives import StatevectorSampler\n",
    "\n",
    "sampler = StatevectorSampler()\n",
    "\n",
    "result = sampler.run([shor]).result()\n",
    "result"
   ]
  },
  {
   "cell_type": "code",
   "execution_count": 5,
   "id": "138afdb4-9c02-43c7-9c05-c87cc052a213",
   "metadata": {},
   "outputs": [
    {
     "data": {
      "image/png": "[encoded data removed]",
      "text/plain": [
       "<Figure size 700x500 with 1 Axes>"
      ]
     },
     "execution_count": 5,
     "metadata": {},
     "output_type": "execute_result"
    }
   ],
   "source": [
    "from qiskit.visualization import plot_distribution\n",
    "\n",
    "plot_distribution(result[0].data.results.get_counts())"
   ]
  },
  {
   "cell_type": "code",
   "execution_count": null,
   "id": "9cf806b6-5dd6-44ff-b011-9a85fc612f69",
   "metadata": {},
   "outputs": [],
   "source": []
  }
 ],
 "metadata": {
  "kernelspec": {
   "display_name": "Python 3 (ipykernel)",
   "language": "python",
   "name": "python3"
  },
  "language_info": {
   "codemirror_mode": {
    "name": "ipython",
    "version": 3
   },
   "file_extension": ".py",
   "mimetype": "text/x-python",
   "name": "python",
   "nbconvert_exporter": "python",
   "pygments_lexer": "ipython3",
   "version": "3.10.11"
  }
 },
 "nbformat": 4,
 "nbformat_minor": 5
}
