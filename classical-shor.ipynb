{
 "cells": [
  {
   "cell_type": "markdown",
   "id": "96a3b791-a3f0-4be1-b076-67b84cd0b96e",
   "metadata": {},
   "source": [
    "# Shor's Algorithm\n",
    "\n",
    "Shor's algorithm accepts a (large) integer $N$ and finds $p$, $q$ such that $N=p\\cdot q$ and both $p$, $q$ are prime\n",
    "\n",
    "1. Choose a random integer $1 < a < N$\n",
    "2. Compute $b = \\gcd(a,N)$\n",
    "3. If $b \\neq 1$: $b$ factors $N$, return $p=b$ and $q=N/b$\n",
    "4. Else:\n",
    "5. Use quantum subroutine to find the order $r$ of $a$ (i.e., $\\min(r>0)$ such that $a^r = 1\\mod{N}$\n",
    "6. If $r$ is odd: move back to line 1\n",
    "7. Compute $g = \\gcd(a^{r/2}\\pm 1, N)$\n",
    "8. If $g > 1$: return $p=g$, $q=N/g$\n",
    "9. Else: go back to line 1"
   ]
  },
  {
   "cell_type": "markdown",
   "id": "b6f42fcb-6508-4c17-9e42-75f2c4543468",
   "metadata": {},
   "source": [
    "# Quantum Order-finding Algorithm\n",
    "\n",
    "https://github.com/qiskit-community/qiskit-community-tutorials/blob/master/algorithms/shor_algorithm.ipynb\n",
    "\n",
    "This algorithm will take two coprime integers, $a$ and $N$, and output $r$ which is the period (i.e., $a^r\\bmod{N}$)\n",
    "\n",
    "**Input:**\n",
    "- Two coprime integers $a$, $N$\n",
    "- The operator $U$ such that $U\\ket{x}\\ket{y} = \\ket{x}\\ket{a^x\\bmod N}$\n",
    "- A state to store the function results, initialized to $\\ket{0}$\n",
    "- $n = O(L + \\log{1/\\epsilon})$ qubits initialized to $\\ket{0}$ ($L$ is the bit length of $N$)\n",
    "\n",
    "**Output:** The period $r$ of $a^x\\bmod N$\n",
    "\n",
    "1. Create the initial state $\\ket{0}\\ket{0}$\n",
    "2. Apply a Hadamard gate to the first register to create the superposition $\\frac{1}{\\sqrt{2^n}} \\sum_{x=0}^{2^n-1}\\ket{x}\\ket{0}$\n",
    "3. Apply the operator $U$ to get\n",
    "$$\n",
    "\\frac{1}{\\sqrt{2^n}} \\sum_{x=0}^{2^n-1}\\ket{x}\\ket{a^x\\bmod N} \\approx \\frac{1}{\\sqrt{r2^n}} \\sum_{x=0}^{2^n-1} \\sum_{l=0}^{r-1} e^{2\\pi ilx/r}\\ket{x}\\ket{u_l}\n",
    "$$\n",
    "    where\n",
    "$$\n",
    "\\ket{u_l} = \\frac{1}{\\sqrt{r}} \\sum_{x=0}^{r-1}e^{-2\\pi ilx/r}\\ket{a^x\\bmod N} \\iff \\ket{a^x\\bmod N} = \\frac{1}{\\sqrt{r}} \\sum_{l=0}^{r-1} e^{2\\pi ilx/r}\\ket{u_l}\n",
    "$$\n",
    "\n",
    "4. Apply the inverse Fourier transform on the first register to get\n",
    "$$\n",
    "\\frac{1}{2^n\\sqrt{r}} \\sum_{l=0}^{r-1} \\sum_{x=0}^{2^n-1} \\sum_{k=0}^{2^n-1} e^{2\\pi ilx/r} e^{-2\\pi ixk/2^n} \\ket{k} \\ket{u_l} = \\frac{1}{2^n\\sqrt{r}} \\sum_{l=0}^{r-1} \\sum_{x=0}^{2^n-1} \\sum_{k=0}^{2^n-1} e^{2\\pi ix(l/r - k/2^n)} \\ket{k} \\ket{u_l}\n",
    "$$\n",
    "\n",
    "5. Measure the first register to get $k_0=2^n\\frac{l}{r}$. The state will collapse to\n",
    "$$\n",
    "\\frac{1}{2^n\\sqrt{r}} \\sum_{l=0}^{r-1} \\sum_{x=0}^{2^n-1} e^{2\\pi ix(l/r - k_0/2^n)} \\ket{u_l} \\equiv \\frac{1}{\\sqrt{r}} \\sum_{l=0}^{r-1} \\alpha_l \\ket{u_l}\n",
    "$$\n",
    "\n",
    "    with probability\n",
    "\n",
    "$$\n",
    "\\mathcal{P}_{k_0} = \\frac{1}{r} \\sum_{l=0}^{r-1} \\left| \\alpha_l \\right|^2\n",
    "$$\n",
    "\n",
    "6. Apply the continued fractions algorithm to determine $r$."
   ]
  },
  {
   "cell_type": "markdown",
   "id": "d50163e8-6d31-4a73-9ac0-2776aee93568",
   "metadata": {
    "collapsed": true,
    "jupyter": {
     "outputs_hidden": true
    }
   },
   "source": [
    "### Imports"
   ]
  },
  {
   "cell_type": "code",
   "id": "578d58e37faf05f6",
   "metadata": {
    "ExecuteTime": {
     "end_time": "2025-01-31T05:39:19.106069Z",
     "start_time": "2025-01-31T05:39:19.102756Z"
    }
   },
   "source": "from qiskit import ClassicalRegister, QuantumCircuit, QuantumRegister",
   "outputs": [],
   "execution_count": 3
  },
  {
   "metadata": {
    "ExecuteTime": {
     "end_time": "2025-01-31T06:01:26.028267Z",
     "start_time": "2025-01-31T06:01:26.016629Z"
    }
   },
   "cell_type": "code",
   "source": [
    "n = 5\n",
    "a, N = 13, 37\n",
    "\n",
    "# initialize two registers of size n\n",
    "ar = QuantumRegister(n, name='Argument Register')\n",
    "fr = QuantumRegister(n, name='Function Register')\n",
    "nr = QuantumRegister(n, name='Counting Register')\n",
    "cr = ClassicalRegister(n, name='Classical Register')\n",
    "\n",
    "# initialize circuit with registers\n",
    "circuit = QuantumCircuit(nr, fr, ar, cr)"
   ],
   "id": "a93212bc8728018a",
   "outputs": [],
   "execution_count": 19
  },
  {
   "metadata": {
    "ExecuteTime": {
     "end_time": "2025-01-31T06:01:26.501118Z",
     "start_time": "2025-01-31T06:01:26.497283Z"
    }
   },
   "cell_type": "code",
   "source": [
    "# apply Hadamard gate to first (argument) register\n",
    "circuit.h(nr)"
   ],
   "id": "c90d8f0d0acfadff",
   "outputs": [
    {
     "data": {
      "text/plain": [
       "<qiskit.circuit.instructionset.InstructionSet at 0x117463550>"
      ]
     },
     "execution_count": 20,
     "metadata": {},
     "output_type": "execute_result"
    }
   ],
   "execution_count": 20
  },
  {
   "metadata": {},
   "cell_type": "code",
   "outputs": [],
   "execution_count": null,
   "source": [
    "# apply the operator U\n",
    "\n",
    "# property: (a^n * x)mod N = (a..(a(ax)mod N)mod N).. )mod N) ?"
   ],
   "id": "84d9d0da0a229329"
  }
 ],
 "metadata": {
  "kernelspec": {
   "display_name": "Python 3 (ipykernel)",
   "language": "python",
   "name": "python3"
  },
  "language_info": {
   "codemirror_mode": {
    "name": "ipython",
    "version": 3
   },
   "file_extension": ".py",
   "mimetype": "text/x-python",
   "name": "python",
   "nbconvert_exporter": "python",
   "pygments_lexer": "ipython3",
   "version": "3.10.11"
  }
 },
 "nbformat": 4,
 "nbformat_minor": 5
}
